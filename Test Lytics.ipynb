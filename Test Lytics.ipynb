{
 "cells": [
  {
   "cell_type": "markdown",
   "id": "d7edb830",
   "metadata": {},
   "source": [
    "#Test Lytics\n",
    "##Crear una aplicación en Python 3 (puede ser Jupyter notebook) que realice las siguientes funciones:\n",
    "1 Obtenga desde esta URL automáticamente el registro de casos por Covid en Estados Unidos: https://github.com/nytimes/covid-19-data\n",
    "2 Guarde el datos en un Dataframe de Pandas.\n",
    "3 Genere una tabla con el resumen total de casos por día\n",
    "4 Se genere una gráfica con el top 10 de días con más casos (se vale usar colores, descripciones, etc etc para hacerla muy ilustrativa)\n",
    "5 Guarde la gráfica en un archivo local."
   ]
  },
  {
   "cell_type": "code",
   "execution_count": 1,
   "id": "4547a53e",
   "metadata": {},
   "outputs": [],
   "source": [
    "import requests\n",
    "import pandas as pd\n",
    "import numpy as np\n",
    "import matplotlib\n",
    "import matplotlib.pyplot as plt\n",
    "from datetime import datetime"
   ]
  },
  {
   "cell_type": "markdown",
   "id": "5ec49c16",
   "metadata": {},
   "source": [
    "Punto no. 1 y 2"
   ]
  },
  {
   "cell_type": "code",
   "execution_count": 2,
   "id": "85064163",
   "metadata": {},
   "outputs": [],
   "source": [
    "url = \"https://raw.githubusercontent.com/nytimes/covid-19-data/master/us-counties-recent.csv\"\n",
    "dataframe=pd.read_csv(url)"
   ]
  },
  {
   "cell_type": "code",
   "execution_count": 3,
   "id": "8300c50e",
   "metadata": {},
   "outputs": [
    {
     "data": {
      "text/html": [
       "<div>\n",
       "<style scoped>\n",
       "    .dataframe tbody tr th:only-of-type {\n",
       "        vertical-align: middle;\n",
       "    }\n",
       "\n",
       "    .dataframe tbody tr th {\n",
       "        vertical-align: top;\n",
       "    }\n",
       "\n",
       "    .dataframe thead th {\n",
       "        text-align: right;\n",
       "    }\n",
       "</style>\n",
       "<table border=\"1\" class=\"dataframe\">\n",
       "  <thead>\n",
       "    <tr style=\"text-align: right;\">\n",
       "      <th></th>\n",
       "      <th>date</th>\n",
       "      <th>county</th>\n",
       "      <th>state</th>\n",
       "      <th>fips</th>\n",
       "      <th>cases</th>\n",
       "      <th>deaths</th>\n",
       "    </tr>\n",
       "  </thead>\n",
       "  <tbody>\n",
       "    <tr>\n",
       "      <th>0</th>\n",
       "      <td>2022-05-30</td>\n",
       "      <td>Autauga</td>\n",
       "      <td>Alabama</td>\n",
       "      <td>1001.0</td>\n",
       "      <td>15939</td>\n",
       "      <td>216.0</td>\n",
       "    </tr>\n",
       "    <tr>\n",
       "      <th>1</th>\n",
       "      <td>2022-05-30</td>\n",
       "      <td>Baldwin</td>\n",
       "      <td>Alabama</td>\n",
       "      <td>1003.0</td>\n",
       "      <td>56329</td>\n",
       "      <td>683.0</td>\n",
       "    </tr>\n",
       "    <tr>\n",
       "      <th>2</th>\n",
       "      <td>2022-05-30</td>\n",
       "      <td>Barbour</td>\n",
       "      <td>Alabama</td>\n",
       "      <td>1005.0</td>\n",
       "      <td>5695</td>\n",
       "      <td>99.0</td>\n",
       "    </tr>\n",
       "    <tr>\n",
       "      <th>3</th>\n",
       "      <td>2022-05-30</td>\n",
       "      <td>Bibb</td>\n",
       "      <td>Alabama</td>\n",
       "      <td>1007.0</td>\n",
       "      <td>6491</td>\n",
       "      <td>105.0</td>\n",
       "    </tr>\n",
       "    <tr>\n",
       "      <th>4</th>\n",
       "      <td>2022-05-30</td>\n",
       "      <td>Blount</td>\n",
       "      <td>Alabama</td>\n",
       "      <td>1009.0</td>\n",
       "      <td>15061</td>\n",
       "      <td>243.0</td>\n",
       "    </tr>\n",
       "    <tr>\n",
       "      <th>...</th>\n",
       "      <td>...</td>\n",
       "      <td>...</td>\n",
       "      <td>...</td>\n",
       "      <td>...</td>\n",
       "      <td>...</td>\n",
       "      <td>...</td>\n",
       "    </tr>\n",
       "    <tr>\n",
       "      <th>97741</th>\n",
       "      <td>2022-06-28</td>\n",
       "      <td>Sweetwater</td>\n",
       "      <td>Wyoming</td>\n",
       "      <td>56037.0</td>\n",
       "      <td>11564</td>\n",
       "      <td>126.0</td>\n",
       "    </tr>\n",
       "    <tr>\n",
       "      <th>97742</th>\n",
       "      <td>2022-06-28</td>\n",
       "      <td>Teton</td>\n",
       "      <td>Wyoming</td>\n",
       "      <td>56039.0</td>\n",
       "      <td>10807</td>\n",
       "      <td>16.0</td>\n",
       "    </tr>\n",
       "    <tr>\n",
       "      <th>97743</th>\n",
       "      <td>2022-06-28</td>\n",
       "      <td>Uinta</td>\n",
       "      <td>Wyoming</td>\n",
       "      <td>56041.0</td>\n",
       "      <td>5815</td>\n",
       "      <td>39.0</td>\n",
       "    </tr>\n",
       "    <tr>\n",
       "      <th>97744</th>\n",
       "      <td>2022-06-28</td>\n",
       "      <td>Washakie</td>\n",
       "      <td>Wyoming</td>\n",
       "      <td>56043.0</td>\n",
       "      <td>2481</td>\n",
       "      <td>44.0</td>\n",
       "    </tr>\n",
       "    <tr>\n",
       "      <th>97745</th>\n",
       "      <td>2022-06-28</td>\n",
       "      <td>Weston</td>\n",
       "      <td>Wyoming</td>\n",
       "      <td>56045.0</td>\n",
       "      <td>1643</td>\n",
       "      <td>19.0</td>\n",
       "    </tr>\n",
       "  </tbody>\n",
       "</table>\n",
       "<p>97746 rows × 6 columns</p>\n",
       "</div>"
      ],
      "text/plain": [
       "             date      county    state     fips  cases  deaths\n",
       "0      2022-05-30     Autauga  Alabama   1001.0  15939   216.0\n",
       "1      2022-05-30     Baldwin  Alabama   1003.0  56329   683.0\n",
       "2      2022-05-30     Barbour  Alabama   1005.0   5695    99.0\n",
       "3      2022-05-30        Bibb  Alabama   1007.0   6491   105.0\n",
       "4      2022-05-30      Blount  Alabama   1009.0  15061   243.0\n",
       "...           ...         ...      ...      ...    ...     ...\n",
       "97741  2022-06-28  Sweetwater  Wyoming  56037.0  11564   126.0\n",
       "97742  2022-06-28       Teton  Wyoming  56039.0  10807    16.0\n",
       "97743  2022-06-28       Uinta  Wyoming  56041.0   5815    39.0\n",
       "97744  2022-06-28    Washakie  Wyoming  56043.0   2481    44.0\n",
       "97745  2022-06-28      Weston  Wyoming  56045.0   1643    19.0\n",
       "\n",
       "[97746 rows x 6 columns]"
      ]
     },
     "execution_count": 3,
     "metadata": {},
     "output_type": "execute_result"
    }
   ],
   "source": [
    "dataframe"
   ]
  },
  {
   "cell_type": "markdown",
   "id": "cc99cca0",
   "metadata": {},
   "source": [
    "Punto no. 3"
   ]
  },
  {
   "cell_type": "code",
   "execution_count": 4,
   "id": "6051b288",
   "metadata": {},
   "outputs": [],
   "source": [
    "df1 = dataframe.groupby(['date'])['cases'].sum()\n",
    "df1.to_csv('df1.csv',index=True)"
   ]
  },
  {
   "cell_type": "code",
   "execution_count": 5,
   "id": "b161390c",
   "metadata": {},
   "outputs": [],
   "source": [
    "df2=pd.read_csv('df1.csv')\n",
    "#df2"
   ]
  },
  {
   "cell_type": "code",
   "execution_count": 6,
   "id": "9e9ce01f",
   "metadata": {},
   "outputs": [],
   "source": [
    "df3=pd.read_csv('df1.csv')\n",
    "df3 = df3.drop([0],axis=0)\n",
    "df3.reset_index(inplace=True, drop=True)\n",
    "#df3"
   ]
  },
  {
   "cell_type": "code",
   "execution_count": 7,
   "id": "e2ce1215",
   "metadata": {},
   "outputs": [
    {
     "name": "stderr",
     "output_type": "stream",
     "text": [
      "C:\\Users\\flu17\\AppData\\Local\\Temp\\ipykernel_24596\\915958193.py:2: FutureWarning: The frame.append method is deprecated and will be removed from pandas in a future version. Use pandas.concat instead.\n",
      "  df3 = df3.append(nueva_fila, ignore_index=True)\n"
     ]
    }
   ],
   "source": [
    "nueva_fila = {'date':'---', 'cases':0}\n",
    "df3 = df3.append(nueva_fila, ignore_index=True)\n",
    "#df3"
   ]
  },
  {
   "cell_type": "code",
   "execution_count": 8,
   "id": "0fada194",
   "metadata": {},
   "outputs": [],
   "source": [
    "df3['casos_dia']=df3['cases'].values-df2['cases'].values\n",
    "#df3"
   ]
  },
  {
   "cell_type": "code",
   "execution_count": 9,
   "id": "3811e56d",
   "metadata": {},
   "outputs": [],
   "source": [
    "df3.drop(df3.tail(1).index,inplace=True) \n",
    "#df3"
   ]
  },
  {
   "cell_type": "code",
   "execution_count": 10,
   "id": "a596b9c3",
   "metadata": {},
   "outputs": [
    {
     "data": {
      "text/html": [
       "<div>\n",
       "<style scoped>\n",
       "    .dataframe tbody tr th:only-of-type {\n",
       "        vertical-align: middle;\n",
       "    }\n",
       "\n",
       "    .dataframe tbody tr th {\n",
       "        vertical-align: top;\n",
       "    }\n",
       "\n",
       "    .dataframe thead th {\n",
       "        text-align: right;\n",
       "    }\n",
       "</style>\n",
       "<table border=\"1\" class=\"dataframe\">\n",
       "  <thead>\n",
       "    <tr style=\"text-align: right;\">\n",
       "      <th></th>\n",
       "      <th>cases</th>\n",
       "      <th>casos_dia</th>\n",
       "    </tr>\n",
       "    <tr>\n",
       "      <th>date</th>\n",
       "      <th></th>\n",
       "      <th></th>\n",
       "    </tr>\n",
       "  </thead>\n",
       "  <tbody>\n",
       "    <tr>\n",
       "      <th>2022-05-31</th>\n",
       "      <td>84144606</td>\n",
       "      <td>182368</td>\n",
       "    </tr>\n",
       "    <tr>\n",
       "      <th>2022-06-01</th>\n",
       "      <td>84363873</td>\n",
       "      <td>219267</td>\n",
       "    </tr>\n",
       "    <tr>\n",
       "      <th>2022-06-03</th>\n",
       "      <td>84617408</td>\n",
       "      <td>142212</td>\n",
       "    </tr>\n",
       "    <tr>\n",
       "      <th>2022-06-06</th>\n",
       "      <td>84814640</td>\n",
       "      <td>137103</td>\n",
       "    </tr>\n",
       "    <tr>\n",
       "      <th>2022-06-07</th>\n",
       "      <td>84957469</td>\n",
       "      <td>142829</td>\n",
       "    </tr>\n",
       "    <tr>\n",
       "      <th>2022-06-08</th>\n",
       "      <td>85136683</td>\n",
       "      <td>179214</td>\n",
       "    </tr>\n",
       "    <tr>\n",
       "      <th>2022-06-15</th>\n",
       "      <td>85877078</td>\n",
       "      <td>172059</td>\n",
       "    </tr>\n",
       "    <tr>\n",
       "      <th>2022-06-21</th>\n",
       "      <td>86391069</td>\n",
       "      <td>209803</td>\n",
       "    </tr>\n",
       "    <tr>\n",
       "      <th>2022-06-22</th>\n",
       "      <td>86561951</td>\n",
       "      <td>170882</td>\n",
       "    </tr>\n",
       "    <tr>\n",
       "      <th>2022-06-24</th>\n",
       "      <td>86833929</td>\n",
       "      <td>155487</td>\n",
       "    </tr>\n",
       "  </tbody>\n",
       "</table>\n",
       "</div>"
      ],
      "text/plain": [
       "               cases  casos_dia\n",
       "date                           \n",
       "2022-05-31  84144606     182368\n",
       "2022-06-01  84363873     219267\n",
       "2022-06-03  84617408     142212\n",
       "2022-06-06  84814640     137103\n",
       "2022-06-07  84957469     142829\n",
       "2022-06-08  85136683     179214\n",
       "2022-06-15  85877078     172059\n",
       "2022-06-21  86391069     209803\n",
       "2022-06-22  86561951     170882\n",
       "2022-06-24  86833929     155487"
      ]
     },
     "execution_count": 10,
     "metadata": {},
     "output_type": "execute_result"
    }
   ],
   "source": [
    "dftop=df3.sort_values(by=\"casos_dia\", ascending=False)\n",
    "dftop=dftop.head(10)\n",
    "\n",
    "dftop=dftop.sort_values(by='date')\n",
    "dftop.set_index('date',inplace = True)\n",
    "\n",
    "dftop"
   ]
  },
  {
   "cell_type": "markdown",
   "id": "2f88c147",
   "metadata": {},
   "source": [
    "Punto no. 4"
   ]
  },
  {
   "cell_type": "code",
   "execution_count": 11,
   "id": "8f7e70a7",
   "metadata": {},
   "outputs": [
    {
     "data": {
      "text/plain": [
       "Text(0, 0.5, 'Número de casos')"
      ]
     },
     "execution_count": 11,
     "metadata": {},
     "output_type": "execute_result"
    },
    {
     "data": {
      "image/png": "[encoded data removed]",
      "text/plain": [
       "<Figure size 432x288 with 1 Axes>"
      ]
     },
     "metadata": {
      "needs_background": "light"
     },
     "output_type": "display_data"
    }
   ],
   "source": [
    "casos = dftop.casos_dia\n",
    "\n",
    "fig = plt.figure()\n",
    "rect = (0,0, 2, 2)\n",
    "\n",
    "axes = fig.add_axes(rect)\n",
    "axes.plot(casos,label='Casos por día', linewidth=3)\n",
    "axes.legend()\n",
    "axes.grid(True)\n",
    "axes.set_title('10 DÍAS CON MAYOR NÚMERO DE CONTAGIOS')\n",
    "axes.set_xlabel(\"Fecha\")\n",
    "axes.set_ylabel(\"Número de casos\")\n"
   ]
  },
  {
   "cell_type": "markdown",
   "id": "a0ce2bbb",
   "metadata": {},
   "source": [
    "Punto no.5"
   ]
  },
  {
   "cell_type": "code",
   "execution_count": 12,
   "id": "2399519e",
   "metadata": {},
   "outputs": [],
   "source": [
    "fig.savefig(\"Top10casos.jpg\", bbox_inches='tight')"
   ]
  },
  {
   "cell_type": "code",
   "execution_count": null,
   "id": "bd54f9e8",
   "metadata": {},
   "outputs": [],
   "source": []
  }
 ],
 "metadata": {
  "kernelspec": {
   "display_name": "Python 3 (ipykernel)",
   "language": "python",
   "name": "python3"
  },
  "language_info": {
   "codemirror_mode": {
    "name": "ipython",
    "version": 3
   },
   "file_extension": ".py",
   "mimetype": "text/x-python",
   "name": "python",
   "nbconvert_exporter": "python",
   "pygments_lexer": "ipython3",
   "version": "3.10.5"
  }
 },
 "nbformat": 4,
 "nbformat_minor": 5
}
